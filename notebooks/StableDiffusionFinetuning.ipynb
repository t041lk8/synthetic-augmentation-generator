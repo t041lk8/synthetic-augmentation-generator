{
 "cells": [
  {
   "cell_type": "markdown",
   "id": "d2e1b158-5336-470c-9f63-c50be4ef1622",
   "metadata": {},
   "source": [
    "# Stable Diffusion finetuning\n",
    "Ноутбук с примером обучения StableDiffusionInpaint для использования полученных весов в генераторе синтетических аугментаций"
   ]
  },
  {
   "cell_type": "code",
   "execution_count": null,
   "id": "5e5e86dc-8e94-471c-9452-9f88c3a79805",
   "metadata": {},
   "outputs": [],
   "source": [
    "import os\n",
    "import json\n",
    "import math\n",
    "\n",
    "import numpy as np\n",
    "from pathlib import Path\n",
    "from PIL import Image\n",
    "from IPython.display import clear_output\n",
    "from tqdm.auto import tqdm\n",
    "from datasets import Dataset, load_from_disk\n",
    "\n",
    "from syntgenerator import AugmentationGenerator, SDItrainer"
   ]
  },
  {
   "cell_type": "markdown",
   "id": "f01d35d5-dc60-434e-b201-675fac2fae38",
   "metadata": {},
   "source": [
    "## Подготовка данных для обучения\n",
    "Для обучения StableDiffusionInpaint необходимо подготовить датасет, каждый экземпляр которого будет хранить оригинальное изображение, маску и промпт(текстовую подсказку для обучения). Такой датасет будет подготовлен из датасета в формате COCO для детекции объектов.\n",
    "\n",
    "В данном разделе будут вырезаться изображения размером 512x512 пикселей вокруг размеченных bbox'ов и создаваться маска с белым прямоугольником на месте bbox'а. Для каждого изображения необходимо написать несколько текстовый подсказок, по которым будет учиться новая модель.\n",
    "Формат полученного датасета выглядит так:\n",
    "\n",
    "    {\n",
    "        'images': list<PIL image>\n",
    "        'masks': list<PIL image>\n",
    "        'text': list<str>\n",
    "    }"
   ]
  },
  {
   "cell_type": "code",
   "execution_count": null,
   "id": "8a1bc24f-af85-4054-9469-7a1ebd78f6ab",
   "metadata": {},
   "outputs": [],
   "source": [
    "COCO_DIR = './data/example.json' #путь до JSON файла с COCO разметкой\n",
    "IMGS_DIR = './data/example/' #путь до директории с изображениями"
   ]
  },
  {
   "cell_type": "code",
   "execution_count": null,
   "id": "87ade9a4-ef56-4c5b-b2f4-1c0e00e68209",
   "metadata": {},
   "outputs": [],
   "source": [
    "images = []\n",
    "masks = []\n",
    "\n",
    "with open(COCO_DIR, 'r') as f:\n",
    "    coco = json.load(f)\n",
    "    for ann in coco['annotations']:\n",
    "            img_name = coco['images'][ann['image_id']]['file_name'].split('/')[-1]\n",
    "            if os.path.exists(IMGS_DIR+img_name):\n",
    "                img = Image.open(IMGS_DIR+img_name)\n",
    "                w, h = img.size\n",
    "                bbox = ann['bbox']\n",
    "                bbox[2] += bbox[0]\n",
    "                bbox[3] += bbox[1]\n",
    "                att_area, mask, _, _ = AugmentationGenerator.generate_attention_area(img=img, bbox=bbox, aa_size=512)\n",
    "                images += [att_area]\n",
    "                masks += [mask]\n",
    "                \n",
    "len(images), len(masks)"
   ]
  },
  {
   "cell_type": "code",
   "execution_count": null,
   "id": "b2305a68-e7b4-45b7-8c6c-f6da57186197",
   "metadata": {},
   "outputs": [],
   "source": [
    "dataset_dict = {\n",
    "    'images': [],\n",
    "    'masks': [],\n",
    "    'text': []\n",
    "}"
   ]
  },
  {
   "cell_type": "code",
   "execution_count": null,
   "id": "08e7f33f-17b7-420d-a802-7312530370b4",
   "metadata": {},
   "outputs": [],
   "source": [
    "nn_prompts = 1 #количество промптов для каждого изображения\n",
    "for i, img in enumerate(images):\n",
    "    display(img)\n",
    "    for _ in range(nn_prompts):\n",
    "        prompt = input()\n",
    "        dataset_dict['text'] += [prompt]\n",
    "        dataset_dict['images'] += [img]\n",
    "        dataset_dict['masks'] += [masks[i]]\n",
    "    clear_output()"
   ]
  },
  {
   "cell_type": "code",
   "execution_count": null,
   "id": "2abb2ec9-3692-4cbd-85db-8cefda779027",
   "metadata": {},
   "outputs": [],
   "source": [
    "DATASET_DIR = './dataset_example' #директория для сохранения датасета\n",
    "inpaint_dataset = Dataset.from_dict(dataset_dict)\n",
    "inpaint_dataset.save_to_disk(DATASET_DIR)"
   ]
  },
  {
   "cell_type": "markdown",
   "id": "923f0ba8-c900-47b1-8351-e4bea2721d50",
   "metadata": {},
   "source": [
    "## Обучение"
   ]
  },
  {
   "cell_type": "code",
   "execution_count": null,
   "id": "575d3527",
   "metadata": {},
   "outputs": [],
   "source": [
    "pretrained_model_name_or_path = 'stabilityai/stable-diffusion-2-inpainting'\n",
    "output_dir = './sd_inpaint_finetune'\n",
    "\n",
    "trainer = SDItrainer(pretrained_model_name_or_path, output_dir)"
   ]
  },
  {
   "cell_type": "code",
   "execution_count": null,
   "id": "cafe9cef",
   "metadata": {},
   "outputs": [],
   "source": [
    "data_dir = 'dataset_example'\n",
    "train_batch_size = 1\n",
    "max_train_steps = 400\n",
    "resolution = 512\n",
    "\n",
    "trainer(data_dir, train_batch_size, max_train_steps, resolution)"
   ]
  }
 ],
 "metadata": {
  "kernelspec": {
   "display_name": "Python 3 (ipykernel)",
   "language": "python",
   "name": "python3"
  },
  "language_info": {
   "codemirror_mode": {
    "name": "ipython",
    "version": 3
   },
   "file_extension": ".py",
   "mimetype": "text/x-python",
   "name": "python",
   "nbconvert_exporter": "python",
   "pygments_lexer": "ipython3",
   "version": "3.9.16"
  }
 },
 "nbformat": 4,
 "nbformat_minor": 5
}
